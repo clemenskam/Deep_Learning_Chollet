{
 "cells": [
  {
   "cell_type": "markdown",
   "metadata": {},
   "source": [
    "## Deep learning: Chapter 2\n",
    "\n",
    "\n",
    "Example:  Classify handwritten digits\n",
    "\n",
    "* grayscale images, 28x28 pixels into 10 categories\n",
    "* [MNISt](https://en.wikipedia.org/wiki/MNIST_database) dataset: 60k training images, 10k test images\n",
    "\n",
    "\n",
    "Terminology:\n",
    "\n",
    "* **Class**: a category in a classification problem \n",
    "* **Sample**: datapoints\n",
    "* **Label** class associatied with a specific sample\n",
    "\n",
    "MNIST database is preloaded in KERASin set of four Numpy arrays"
   ]
  },
  {
   "cell_type": "code",
   "execution_count": null,
   "metadata": {},
   "outputs": [],
   "source": [
    "from keras.datasets import mnist\n",
    "(train_images, train_labels), (test_images, test_labels) = mnist.load_data()"
   ]
  },
  {
   "cell_type": "markdown",
   "metadata": {},
   "source": [
    "* `train_images` and `train_labels` frm the training set\n",
    "* `test_images` and `test_labels` is test set on which model will be tested"
   ]
  },
  {
   "cell_type": "code",
   "execution_count": 2,
   "metadata": {},
   "outputs": [
    {
     "name": "stdout",
     "output_type": "stream",
     "text": [
      "Shape train_image = (60000, 28, 28)\n",
      "Length train_labels = 60000\n",
      "Shape test_images= (10000, 28, 28)\n",
      "Length test_labels = 10000\n"
     ]
    }
   ],
   "source": [
    "print(f\"Shape train_image = {train_images.shape}\")\n",
    "print(f\"Length train_labels = {len(train_labels)}\")\n",
    "print(f\"Shape test_images= {test_images.shape}\")\n",
    "print(f\"Length test_labels = {len(test_labels)}\")"
   ]
  },
  {
   "cell_type": "markdown",
   "metadata": {},
   "source": [
    "### Workflow: \n",
    "\n",
    "1. feed neuronal network training data\n",
    "2. associate images with labels\n",
    "3. produce predictions for test images\n",
    "4. verify whether predictions match test labels"
   ]
  },
  {
   "cell_type": "code",
   "execution_count": 3,
   "metadata": {},
   "outputs": [],
   "source": [
    "from keras import models\n",
    "from keras import layers\n",
    "\n",
    "network = models.Sequential()\n",
    "network.add(layers.Dense(512, activation = 'relu', input_shape=(28 * 28,)))\n",
    "network.add(layers.Dense(10, activation = 'softmax'))"
   ]
  },
  {
   "cell_type": "markdown",
   "metadata": {},
   "source": [
    "* layer: is a filter\n",
    "* layers extract representations of data fed into them.\n",
    "* layers are chained\n",
    "\n",
    "Network above consists of a sequence of two dense layers that are *densely* connected (or *fully* connected) neural layers. The second layer is a 10 way *softmax* layer which returns 10 probability scores (summing to 1). Each score will give probability that current digit belongs to one of the 10 digit classes.\n",
    "\n",
    "To make the network ready for training need to pick three more things as part of the *compilation* step: \n",
    "\n",
    "* an optimizer (method to update network)\n",
    "* a loss function (how network measures performance on training data)\n",
    "* metrics to monitor during training and testing (here: accuracy of classification)"
   ]
  },
  {
   "cell_type": "markdown",
   "metadata": {},
   "source": [
    "A representation of the work flow is below:\n",
    "\n",
    "<img src=\"https://dpzbhybb2pdcj.cloudfront.net/chollet/Figures/01fig09.jpg\" width=400>"
   ]
  },
  {
   "cell_type": "code",
   "execution_count": 4,
   "metadata": {},
   "outputs": [],
   "source": [
    "network.compile(optimizer='rmsprop', loss='categorical_crossentropy', metrics=['accuracy'])"
   ]
  },
  {
   "cell_type": "markdown",
   "metadata": {},
   "source": [
    "* reshape images into a `float32` array of shape (60000, 28*28)\n",
    "* rescale 8 bit images into values in interval `[0, 1]`"
   ]
  },
  {
   "cell_type": "code",
   "execution_count": 5,
   "metadata": {},
   "outputs": [],
   "source": [
    "train_images = train_images.reshape((60000, 28 * 28))\n",
    "train_images = train_images.astype('float32')/255\n",
    "\n",
    "test_images = test_images.reshape((10000, 28 *28))\n",
    "test_images = test_images.astype('float32')/255"
   ]
  },
  {
   "cell_type": "markdown",
   "metadata": {},
   "source": [
    "* categorically encode labels:"
   ]
  },
  {
   "cell_type": "code",
   "execution_count": 6,
   "metadata": {},
   "outputs": [],
   "source": [
    "from keras.utils import to_categorical\n",
    "\n",
    "train_labels = to_categorical(train_labels)\n",
    "test_labels = to_categorical(test_labels)"
   ]
  },
  {
   "cell_type": "markdown",
   "metadata": {},
   "source": [
    "* train network.  Call network's fit method:"
   ]
  },
  {
   "cell_type": "code",
   "execution_count": 7,
   "metadata": {},
   "outputs": [
    {
     "name": "stdout",
     "output_type": "stream",
     "text": [
      "WARNING:tensorflow:From /Users/clemenskaminski/opt/anaconda3/lib/python3.7/site-packages/keras/backend/tensorflow_backend.py:422: The name tf.global_variables is deprecated. Please use tf.compat.v1.global_variables instead.\n",
      "\n",
      "Epoch 1/5\n",
      "60000/60000 [==============================] - 4s 68us/step - loss: 0.2562 - accuracy: 0.9264\n",
      "Epoch 2/5\n",
      "60000/60000 [==============================] - 4s 63us/step - loss: 0.1041 - accuracy: 0.9694\n",
      "Epoch 3/5\n",
      "60000/60000 [==============================] - 4s 63us/step - loss: 0.0680 - accuracy: 0.9804\n",
      "Epoch 4/5\n",
      "60000/60000 [==============================] - 4s 63us/step - loss: 0.0498 - accuracy: 0.9857\n",
      "Epoch 5/5\n",
      "60000/60000 [==============================] - 4s 64us/step - loss: 0.0377 - accuracy: 0.9890\n"
     ]
    },
    {
     "data": {
      "text/plain": [
       "<keras.callbacks.callbacks.History at 0x63f273f90>"
      ]
     },
     "execution_count": 7,
     "metadata": {},
     "output_type": "execute_result"
    }
   ],
   "source": [
    "network.fit(train_images, train_labels, epochs =5, batch_size=128)"
   ]
  },
  {
   "cell_type": "markdown",
   "metadata": {},
   "source": [
    "* evaluate how good network is at categorising unknown data:"
   ]
  },
  {
   "cell_type": "code",
   "execution_count": 8,
   "metadata": {},
   "outputs": [
    {
     "name": "stdout",
     "output_type": "stream",
     "text": [
      "10000/10000 [==============================] - 0s 37us/step\n",
      "test_acc: 0.9800000190734863\n"
     ]
    }
   ],
   "source": [
    "test_loss, test_acc = network.evaluate(test_images, test_labels)\n",
    "print('test_acc:', test_acc)\n"
   ]
  },
  {
   "cell_type": "markdown",
   "metadata": {},
   "source": [
    "This is lower than the training set accuracy.  This is an example of *overfitting*. "
   ]
  },
  {
   "cell_type": "markdown",
   "metadata": {},
   "source": [
    "This is in the workflow in short for generating a DL network in Keras. In what follows, we discuss what's behind the working.  We'll discuss data, tensors, tensor operations, data transoformations."
   ]
  },
  {
   "cell_type": "markdown",
   "metadata": {},
   "source": [
    "The types of data we are dealing with are:\n",
    "\n",
    "* Vector data: e.g. dataset of text documents where each document is represented by the counts of how many times each word in a dictionary appears in it.  e.g. tensor of shape `(500, 20000)` might describe 500 documents and the count for each of the words contained in a dictionary of 20000 words.\n",
    "\n",
    "* Time series data: e.g.stock prices as a tensor of rank 3: 250 days with values recorded every minute (390 working minutes per day), recording low, high and current price for each minute `(250, 390, 3)`\n",
    "\n",
    "* Image data: tensor of rank 4: e.g. 128 images, 256 x 256 pixels, 3 colour channels. `(128, 256, 256, 3)`. note Tensorflow convention for order is `(samples, height, width, color_depth)` "
   ]
  },
  {
   "cell_type": "markdown",
   "metadata": {},
   "source": [
    "### Tensor attributes\n",
    "\n",
    "* Number of axes (rank)\n",
    "* shape: dimension of tensor along each axis\n",
    "* Data type (usually `dtype` in python libraries)"
   ]
  },
  {
   "cell_type": "code",
   "execution_count": 3,
   "metadata": {},
   "outputs": [
    {
     "name": "stdout",
     "output_type": "stream",
     "text": [
      "shape of train_images =  (60000, 28, 28)\n"
     ]
    }
   ],
   "source": [
    "print('shape of train_images = ', train_images.shape)  #Note: above we have vectorised 28x28 images"
   ]
  },
  {
   "cell_type": "code",
   "execution_count": 4,
   "metadata": {},
   "outputs": [],
   "source": [
    "import numpy as np"
   ]
  },
  {
   "cell_type": "code",
   "execution_count": 5,
   "metadata": {},
   "outputs": [
    {
     "name": "stdout",
     "output_type": "stream",
     "text": [
      "shape of y = (60000, 28, 28)\n"
     ]
    }
   ],
   "source": [
    "y = np.reshape(train_images, (60000, 28,28)) #reshape into tensor of rank 3 (sample, height, width)\n",
    "print('shape of y =', y.shape)"
   ]
  },
  {
   "cell_type": "code",
   "execution_count": 6,
   "metadata": {},
   "outputs": [],
   "source": [
    "import matplotlib.pyplot as plt"
   ]
  },
  {
   "cell_type": "code",
   "execution_count": 7,
   "metadata": {},
   "outputs": [
    {
     "data": {
      "text/plain": [
       "(28, 28)"
      ]
     },
     "execution_count": 7,
     "metadata": {},
     "output_type": "execute_result"
    }
   ],
   "source": [
    "digit = y[3]\n",
    "digit.shape"
   ]
  },
  {
   "cell_type": "code",
   "execution_count": 8,
   "metadata": {},
   "outputs": [
    {
     "data": {
      "image/png": "[encoded data removed]",
      "text/plain": [
       "<Figure size 432x288 with 1 Axes>"
      ]
     },
     "metadata": {
      "needs_background": "light"
     },
     "output_type": "display_data"
    }
   ],
   "source": [
    "plt.imshow(digit)\n",
    "plt.show()"
   ]
  },
  {
   "cell_type": "code",
   "execution_count": 9,
   "metadata": {},
   "outputs": [
    {
     "data": {
      "image/png": "[encoded data removed]",
      "text/plain": [
       "<Figure size 432x288 with 1 Axes>"
      ]
     },
     "metadata": {
      "needs_background": "light"
     },
     "output_type": "display_data"
    }
   ],
   "source": [
    "digit = y[34001]\n",
    "plt.imshow(digit, cmap=plt.cm.binary)\n",
    "plt.show()"
   ]
  },
  {
   "cell_type": "markdown",
   "metadata": {},
   "source": [
    "### Slicing tensors:"
   ]
  },
  {
   "cell_type": "markdown",
   "metadata": {},
   "source": [
    "Slicing just bottom half of 8:"
   ]
  },
  {
   "cell_type": "code",
   "execution_count": 10,
   "metadata": {},
   "outputs": [
    {
     "data": {
      "image/png": "[encoded data removed]",
      "text/plain": [
       "<Figure size 432x288 with 1 Axes>"
      ]
     },
     "metadata": {
      "needs_background": "light"
     },
     "output_type": "display_data"
    }
   ],
   "source": [
    "digit = y[34001, 15:, :]\n",
    "plt.imshow(digit, cmap=plt.cm.binary)\n",
    "plt.show()"
   ]
  },
  {
   "cell_type": "code",
   "execution_count": 25,
   "metadata": {},
   "outputs": [
    {
     "data": {
      "image/png": "[encoded data removed]",
      "text/plain": [
       "<Figure size 432x288 with 7 Axes>"
      ]
     },
     "metadata": {
      "needs_background": "light"
     },
     "output_type": "display_data"
    }
   ],
   "source": [
    "counter=0\n",
    "start_index = 1011\n",
    "tiles = 7\n",
    "images = y[start_index:start_index+tiles]\n",
    "\n",
    "\n",
    "fig=plt.figure()\n",
    "for i in range(1,len(images)+1):\n",
    "    sub = fig.add_subplot(1, len(images), i)\n",
    "    sub.axis('off')\n",
    "    sub.imshow(images[i-1])\n",
    "    \n",
    "plt.show()"
   ]
  },
  {
   "cell_type": "markdown",
   "metadata": {},
   "source": [
    "### Data batches\n",
    "\n",
    "the first axes (axis 0) is called the **sample axis**.  Usually the entire dataset can't be processed at once and one needs to break the dataset into smaller **batches**.  "
   ]
  },
  {
   "cell_type": "code",
   "execution_count": 15,
   "metadata": {},
   "outputs": [
    {
     "data": {
      "text/plain": [
       "128"
      ]
     },
     "execution_count": 15,
     "metadata": {},
     "output_type": "execute_result"
    }
   ],
   "source": [
    "batch_1 = train_images[:128]\n",
    "\n",
    "batch_4 = train_images[128*4:128*(4+1)]  #batch n is from dataset[128*n:128*(n+1)] \n",
    "\n",
    "len(batch_4)"
   ]
  },
  {
   "cell_type": "markdown",
   "metadata": {},
   "source": [
    "## Tensor operations"
   ]
  },
  {
   "cell_type": "markdown",
   "metadata": {},
   "source": [
    "All transformations learned by DNN can be reduced to a small number of tensor operations (add, multiply, etc)\n",
    "\n",
    "E.g.\n",
    "```python\n",
    "network.add(layers.Dense(512, activation = 'relu', input_shape=(28 * 28,)))\n",
    "```\n",
    "\n",
    "this layer cab be interpreted as a function that takes a 2D tensor (vecor samples) and returns another 2D tensor.\n",
    "\n",
    "The function is:\n",
    "\n",
    "```python\n",
    "output = relu(dot(W, input) + b\n",
    "```\n",
    "\n",
    "* This includes a dot product between a 2D tensor W and an input tensor and adds a vector b. \n",
    "* It also includes a **rectified linear unit** function defined as `max(x, 0)`"
   ]
  },
  {
   "cell_type": "markdown",
   "metadata": {},
   "source": [
    "### Rectified linear Unit - relu"
   ]
  },
  {
   "cell_type": "code",
   "execution_count": 39,
   "metadata": {},
   "outputs": [],
   "source": [
    "def naive_relu(x):\n",
    "    '''Naive implementation of relu (rectified linear unit) function\n",
    "    takes tensor x of rank 2\n",
    "    ''' \n",
    "    assert len(x.shape) == 2, 'x has more than 2 axes, not an image!'\n",
    "    x = x.copy()    #produce a copy of x without overwriting input tensor\n",
    "   \n",
    "    \n",
    "    for i in range(0, x.shape[0]):\n",
    "        for j in range(0, x.shape[1]):\n",
    "            x[i, j]=max(x[i,j], 0)\n",
    "    return x"
   ]
  },
  {
   "cell_type": "code",
   "execution_count": 60,
   "metadata": {},
   "outputs": [
    {
     "name": "stdout",
     "output_type": "stream",
     "text": [
      "x=\n",
      "[[ 0.15304079  0.11658962  0.25870324 -0.55225153]\n",
      " [-0.28590247  0.30955119 -0.67407404 -0.76107192]\n",
      " [-0.03593688  0.42629766  0.23669738  0.62289514]] \n",
      "\n",
      "Relu(x) = naive_relu(x) =\n",
      "[[0.15304079 0.11658962 0.25870324 0.        ]\n",
      " [0.         0.30955119 0.         0.        ]\n",
      " [0.         0.42629766 0.23669738 0.62289514]]\n"
     ]
    }
   ],
   "source": [
    "x = 2.0*(np.random.random((3,4))-0.5)  #random.random only produces positive numbers in (0, 1)\n",
    "\n",
    "print(f\"x=\\n{x} \\n\")\n",
    "print(f\"Relu(x) = naive_relu(x) =\\n{naive_relu(x)}\")"
   ]
  },
  {
   "cell_type": "markdown",
   "metadata": {},
   "source": [
    "same is achieved with the very simple inbuilt numpy method:"
   ]
  },
  {
   "cell_type": "code",
   "execution_count": 61,
   "metadata": {},
   "outputs": [
    {
     "name": "stdout",
     "output_type": "stream",
     "text": [
      "Relu(x) = np.maximum(x, 0) =\n",
      "[[0.15304079 0.11658962 0.25870324 0.        ]\n",
      " [0.         0.30955119 0.         0.        ]\n",
      " [0.         0.42629766 0.23669738 0.62289514]]\n"
     ]
    }
   ],
   "source": [
    "print(f\"Relu(x) = np.maximum(x, 0) =\\n{np.maximum(x,0)}\")"
   ]
  },
  {
   "cell_type": "markdown",
   "metadata": {},
   "source": [
    "## naive Addition"
   ]
  },
  {
   "cell_type": "code",
   "execution_count": 73,
   "metadata": {},
   "outputs": [],
   "source": [
    "def naive_addition(x, y):\n",
    "    assert len(x.shape)== 2, \"Shape of x or y not rank 2!\"\n",
    "    assert x.shape == y.shape, \"Shape of x and y not same!\"\n",
    "    \n",
    "    x=x.copy()\n",
    "    y=y.copy()\n",
    "    \n",
    "    for i in range(0, x.shape[0]):\n",
    "        for j in range(0, x.shape[1]):\n",
    "            x[i,j]+=y[i,j]\n",
    "            \n",
    "    return x"
   ]
  },
  {
   "cell_type": "code",
   "execution_count": 78,
   "metadata": {},
   "outputs": [
    {
     "name": "stdout",
     "output_type": "stream",
     "text": [
      "a =\n",
      "[[2 3 2]\n",
      " [3 4 0]]\n",
      "b =\n",
      "[[4 2 4]\n",
      " [1 1 4]]\n",
      "a + b = naive_addition(a, b) =\n",
      "[[6 5 6]\n",
      " [4 5 4]]\n"
     ]
    }
   ],
   "source": [
    "a = np.random.randint(5, size=(2,3))\n",
    "print(f\"a =\\n{a}\")\n",
    "\n",
    "b = np.random.randint(5, size=(2,3))\n",
    "print(f\"b =\\n{b}\")\n",
    "\n",
    "print(f\"a + b = naive_addition(a, b) =\\n{naive_addition(a, b)}\")"
   ]
  },
  {
   "cell_type": "markdown",
   "metadata": {},
   "source": [
    "### Broadcasting\n",
    "\n",
    "Means stretching dimensions of lower rank tensor to those of higher rank tensor for efficient computation.\n",
    "\n",
    "See [broadcasting article](https://numpy.org/devdocs/user/theory.broadcasting.html)\n",
    "\n",
    "* works from last axis backward to front\n",
    "* final dimensions must match\n",
    "\n",
    "E.g. adding `1` to `[1,2,3]` is the same as broadcasting `1` to `[1,1,1]` and adding `[1,1,1]` to `[1,2,3]`."
   ]
  },
  {
   "cell_type": "code",
   "execution_count": 79,
   "metadata": {},
   "outputs": [],
   "source": [
    "import numpy as np"
   ]
  },
  {
   "cell_type": "code",
   "execution_count": 80,
   "metadata": {},
   "outputs": [
    {
     "name": "stdout",
     "output_type": "stream",
     "text": [
      "[1 2 3]\n"
     ]
    }
   ],
   "source": [
    "a = np.arange(1,4)\n",
    "print(a)\n"
   ]
  },
  {
   "cell_type": "code",
   "execution_count": 81,
   "metadata": {},
   "outputs": [
    {
     "name": "stdout",
     "output_type": "stream",
     "text": [
      "y=\n",
      " [[[ 1.  2.  3.  4.  5.  6.  7.  8.  9. 10.]\n",
      "  [ 1.  2.  3.  4.  5.  6.  7.  8.  9. 10.]\n",
      "  [ 1.  2.  3.  4.  5.  6.  7.  8.  9. 10.]]\n",
      "\n",
      " [[ 1.  2.  3.  4.  5.  6.  7.  8.  9. 10.]\n",
      "  [ 1.  2.  3.  4.  5.  6.  7.  8.  9. 10.]\n",
      "  [ 1.  2.  3.  4.  5.  6.  7.  8.  9. 10.]]]\n",
      "\n",
      "rank of y: 3\n",
      "\n",
      "shape of y: (2, 3, 10)\n"
     ]
    }
   ],
   "source": [
    "x = np.arange(1,11).astype(float)\n",
    "y = np.ones((2, 3, 10)).astype(float)\n",
    "y[:]=x\n",
    "print('y=\\n',y)\n",
    "\n",
    "print('\\nrank of y:', y.ndim)\n",
    "\n",
    "print('\\nshape of y:', y.shape)"
   ]
  },
  {
   "cell_type": "markdown",
   "metadata": {},
   "source": [
    "## Gradient-based optimisation\n",
    "\n",
    "each neural layer transforms input data as follows:\n",
    "\n",
    "```\n",
    "output = relu(dot(W, input) +b)\n",
    "```\n",
    "\n",
    "where W and b are tensors that are attributes of layers, called weights (*kernel*) or trainable parameters (*bias*) of the layer.  Initially, this does nothing useful, but gradually W and b are adjusted, based on feedback signal.  This adjustment takes place in a *training loop*.  Specifically\n",
    "\n",
    "1. Draw batch of training samples `x` and corresponding targets `y`\n",
    "1. Run network on `x` (called *forward pass*) to obain `y_predicted`\n",
    "1. Compute loss of network on batch, a measure of mismatch between `y_predicted` and `y`\n",
    "1. Update  weights of `W`, `b` so that loss is reduced. "
   ]
  },
  {
   "cell_type": "markdown",
   "metadata": {},
   "source": [
    "Repeat, until loss is low: The network has now learned to map inputs to their correct targets.  \n",
    "* Step 1 is simple: just I/O code.\n",
    "* Steps 2 and 3 are merely application of a handful of tensor ops.\n",
    "* Step 4 is the difficult part.  How do we decide whether `W` and `b` coefficients should be increased or decreased? And by how much?\n"
   ]
  },
  {
   "cell_type": "markdown",
   "metadata": {},
   "source": [
    "Could do latter by freezing all coefficients except one, which you vary and recalculate loss.  If loss greater, change coefficient accordingly, etc.  Repeat sequentially for all coefficients. Problem: Terribly inefficient! There may be 10s or even 100s of thousands of coefficients to optimise: this makes problem intractable.  However: all operations described are differentiable. Better way: compute **gradient** of the loss wih regards to network coefficients"
   ]
  },
  {
   "cell_type": "markdown",
   "metadata": {},
   "source": [
    "**Derivative:**\n",
    "\n",
    "Approximate `f` around a point `p` as:\n",
    "\n",
    "`f(x + epsilon_x) = y + a * epsilon_x`\n",
    "\n",
    "The slope `a` is called the derivative of `f` in `p`"
   ]
  },
  {
   "cell_type": "markdown",
   "metadata": {},
   "source": [
    "## Tensor multiplication"
   ]
  },
  {
   "cell_type": "markdown",
   "metadata": {},
   "source": [
    "### vector dot product\n",
    "\n",
    "\n",
    "$$ z = \\vec{x} \\cdot \\vec{y}$$\n",
    "\n",
    "where $z$ is a scalar"
   ]
  },
  {
   "cell_type": "code",
   "execution_count": 122,
   "metadata": {},
   "outputs": [],
   "source": [
    "def naive_vector_dot(x,y):\n",
    "    assert len(x.shape)==1, \"rank != 1: x not a vector!\"\n",
    "    assert len(y.shape)==1, \"rank != 1: y not a vector!\"\n",
    "    assert x.shape[0]==y.shape[0], \"len(x) != len(y): shapes incompatible!\"\n",
    "    \n",
    "    x=x.copy()\n",
    "    y=y.copy() #ensures that original x, y not overridden\n",
    "    z=0.0\n",
    "    \n",
    "    for i in range(x.shape[0]):\n",
    "        z+=x[i]*y[i]\n",
    "    \n",
    "    return z"
   ]
  },
  {
   "cell_type": "code",
   "execution_count": 123,
   "metadata": {},
   "outputs": [
    {
     "name": "stdout",
     "output_type": "stream",
     "text": [
      "[1 2 3].[4 5 6]=\n",
      " 32.0\n"
     ]
    }
   ],
   "source": [
    "x=np.array([1,2,3])\n",
    "y=np.array([4,5,6])\n",
    "\n",
    "print(f\"{x}.{y}=\\n {naive_vector_dot(x, y)}\")"
   ]
  },
  {
   "cell_type": "markdown",
   "metadata": {},
   "source": [
    "### matrix - vector product:\n",
    "\n",
    "$$ \\vec{z} = \\mathbf{x} \\cdot \\vec{y}$$\n",
    "\n",
    "where $\\mathbf{x}$ is a matrix. "
   ]
  },
  {
   "cell_type": "code",
   "execution_count": 124,
   "metadata": {},
   "outputs": [],
   "source": [
    "def naive_matrix_vec_dot(x, y):\n",
    "    assert len(x.shape)==2, \"rank of x != 2: not a matrix!\"\n",
    "    assert len(y.shape)==1, \"rank of y != 1: not a vector!\"\n",
    "    assert x.shape[1]==y.shape[0], \"x_cols != y_rows: shapes not compatible!\"\n",
    "    \n",
    "    x=x.copy()\n",
    "    y=y.copy()\n",
    "    z=np.zeros(x.shape[0])\n",
    "               \n",
    "    for i in range(x.shape[1]):\n",
    "        for j in range(x.shape[0]):\n",
    "            z[i]+= x[i, j]*y[j]\n",
    "    \n",
    "    return z"
   ]
  },
  {
   "cell_type": "code",
   "execution_count": 125,
   "metadata": {},
   "outputs": [
    {
     "name": "stdout",
     "output_type": "stream",
     "text": [
      "[[1 2]\n",
      " [3 4]].[2 3]=\n",
      " [ 8. 18.]\n"
     ]
    }
   ],
   "source": [
    "x=np.array([[1,2], [3,4]])\n",
    "y=np.array([2,3])\n",
    "\n",
    "print(f\"{x}.{y}=\\n {naive_matrix_vec_dot(x, y)}\")"
   ]
  },
  {
   "cell_type": "markdown",
   "metadata": {},
   "source": [
    "better way: make use of the vector dot product and multiply row vectors of x with column y:\n"
   ]
  },
  {
   "cell_type": "code",
   "execution_count": 126,
   "metadata": {},
   "outputs": [],
   "source": [
    "def naive_matrix_vec_dot2(x,y):\n",
    "    assert len(x.shape)==2, \"rank of x != 2: not a matrix!\"\n",
    "    assert len(y.shape)==1, \"rank of y != 1: not a vector!\"\n",
    "    assert x.shape[1]==y.shape[0], \"x_cols != y_rows: shapes not compatible!\"\n",
    "    \n",
    "    x=x.copy()\n",
    "    y=y.copy()\n",
    "    z=np.zeros(x.shape[0])\n",
    "    \n",
    "    for i in range(x.shape[0]):\n",
    "        z[i]=naive_vector_dot(x[i,:], y)\n",
    "        \n",
    "    return z"
   ]
  },
  {
   "cell_type": "code",
   "execution_count": 134,
   "metadata": {},
   "outputs": [
    {
     "name": "stdout",
     "output_type": "stream",
     "text": [
      "[[1 2]\n",
      " [3 4]].[2 3]=[ 8. 18.]\n"
     ]
    }
   ],
   "source": [
    "x=np.array([[1,2], [3,4]])\n",
    "y=np.array([2,3])\n",
    "\n",
    "print(f\"{x}.{y}={naive_matrix_vec_dot2(x, y)}\")"
   ]
  },
  {
   "cell_type": "markdown",
   "metadata": {},
   "source": [
    "### Tensor dot product:\n",
    "\n",
    "$$ \\mathbf{z} = \\mathbf{x} \\cdot \\mathbf{y}$$\n",
    "\n",
    "where $\\mathbf{x}$ and $\\mathbf{y}$ ar shape-compatible  matrixices (i.e. `len(x_rows)=len(y_columns)`. "
   ]
  },
  {
   "cell_type": "code",
   "execution_count": 145,
   "metadata": {},
   "outputs": [],
   "source": [
    "def naive_tensor_dot_product(x, y):\n",
    "    assert len(x.shape)==2, \"Rank of x != 2\"\n",
    "    assert len(y.shape)==2, \"Rank of y != 2\"\n",
    "    assert x.shape[0]==y.shape[1], \"columns of x don't match rows of y!\"\n",
    "    \n",
    "    x=x.copy()\n",
    "    y=y.copy()\n",
    "    z=np.zeros((x.shape[0], y.shape[1]))\n",
    "    \n",
    "    for i in range(x.shape[0]):\n",
    "        for j in range(y.shape[1]):\n",
    "            z[i,j]=naive_vector_dot(x[i,:], y[:, j])\n",
    "    \n",
    "    return z"
   ]
  },
  {
   "cell_type": "code",
   "execution_count": 147,
   "metadata": {},
   "outputs": [
    {
     "name": "stdout",
     "output_type": "stream",
     "text": [
      "[[1 2]\n",
      " [3 4]]\n",
      ".\n",
      "[[1 2]\n",
      " [3 4]]\n",
      "=\n",
      "[[ 7. 10.]\n",
      " [15. 22.]]\n"
     ]
    }
   ],
   "source": [
    "x=np.array([[1,2], [3,4]])\n",
    "y=np.array([[1,2], [3,4]])\n",
    "print(f\"{x}\\n.\\n{y}\\n=\\n{naive_tensor_dot_product(x, y)}\")"
   ]
  },
  {
   "cell_type": "markdown",
   "metadata": {},
   "source": [
    "### Shapes of tensor products\n",
    "\n",
    "<img src=\"https://dpzbhybb2pdcj.cloudfront.net/chollet/Figures/02fig05.jpg\" width=400>\n",
    "\n",
    "The dot product between higher-dimensional tensors:\n",
    "\n",
    "$$(a,b) \\cdot (b,c) \\rightarrow (a, c)$$\n",
    "\n",
    "\n",
    "$$(a,b,c,d) \\cdot (d,) \\rightarrow (a, b, c)$$\n",
    "\n",
    "$$(a,b,c,d) \\cdot (d, e) \\rightarrow (a, b, c, e)$$"
   ]
  },
  {
   "cell_type": "markdown",
   "metadata": {},
   "source": [
    "## Geometric interpretation of deep learning\n",
    "\n",
    "Think of it as a series of elementary tensor operations to transform representation of data into a format, where "
   ]
  },
  {
   "cell_type": "markdown",
   "metadata": {},
   "source": [
    "### Vector addition: \n",
    "\n",
    "$$\\vec{a} + \\vec{b} = \\vec{c}$$\n",
    "\n",
    "this is an addition of two tensors of rank 1: \n",
    "\n",
    "<img src=\"https://dpzbhybb2pdcj.cloudfront.net/chollet/HighResolutionFigures/figure_2-8.png\" width=200>"
   ]
  },
  {
   "cell_type": "markdown",
   "metadata": {},
   "source": [
    "### matrix rotation\n",
    "\n",
    "This is dot product of a matrix (tensor of rank 2) with a vector (tensor of rank 1):\n",
    "\n",
    "\n",
    "$$ \\mathbf{R} \\cdot \\vec{x} = \\vec{y}$$\n",
    "\n",
    "where\n",
    "\n",
    "\n",
    "\\begin{equation}\n",
    "\\mathbf{R} = \n",
    "\\begin{bmatrix}\n",
    "\\cos x & \\sin x \\\\\n",
    "-\\sin x & \\cos x\n",
    "\\end{bmatrix}\n",
    "\\end{equation}\n",
    "\n",
    "\n",
    "\\begin{equation} \n",
    "\\begin{bmatrix}\n",
    "\\cos \\theta & \\sin \\theta \\\\\n",
    "-\\sin \\theta & \\cos \\theta\n",
    "\\end{bmatrix} \n",
    "\\cdot\n",
    "\\begin{pmatrix}\n",
    "x \\\\\n",
    "y\n",
    "\\end{pmatrix}\n",
    "=\n",
    "\\begin{pmatrix}\n",
    "x' \\\\\n",
    "y'\n",
    "\\end{pmatrix}\n",
    "\\end{equation}\n"
   ]
  },
  {
   "cell_type": "markdown",
   "metadata": {},
   "source": [
    "Can think of neural networks of chains of geometric transformations (tensor operations) of the input data.  These transformations take place in a high-dimensional space, implemented as long, chained, series of simple individual steps. "
   ]
  },
  {
   "cell_type": "markdown",
   "metadata": {},
   "source": [
    "### An image of \n",
    "\n",
    "Useful mental image:\n",
    "\n",
    "Imagine two sheets of coloured paper (red and blue) crumpled together into a ball.  The crumpled ball is the input data and each paper a class of the input data (red and blue).  The crumpled ball represents the input data. How do we unfold it to separate the individual sheets (classes of data)?  ML is figuring out the procedure of trasformations that perform this separation, very much like the sequential number of individual operations you'd perform to 'uncrumple' the pieces of paper, picking one corner at a time, stretching, unfolding, shearing, etc.:\n",
    "\n",
    "\n",
    "<img src=\"https://dpzbhybb2pdcj.cloudfront.net/chollet/HighResolutionFigures/figure_2-9.png\" width=600>\n",
    "\n",
    "This is what ML is about: finding neat representations for complex, highly folded data manifolds. The complex transformation required is broken down into  a series of simple elementary ones - similar to what you would do to unfold the crumpled piece of paper."
   ]
  },
  {
   "cell_type": "markdown",
   "metadata": {},
   "source": [
    "## Gradient-based optimisation"
   ]
  },
  {
   "cell_type": "code",
   "execution_count": null,
   "metadata": {},
   "outputs": [],
   "source": []
  }
 ],
 "metadata": {
  "kernelspec": {
   "display_name": "Python 3",
   "language": "python",
   "name": "python3"
  },
  "language_info": {
   "codemirror_mode": {
    "name": "ipython",
    "version": 3
   },
   "file_extension": ".py",
   "mimetype": "text/x-python",
   "name": "python",
   "nbconvert_exporter": "python",
   "pygments_lexer": "ipython3",
   "version": "3.7.7"
  }
 },
 "nbformat": 4,
 "nbformat_minor": 4
}
